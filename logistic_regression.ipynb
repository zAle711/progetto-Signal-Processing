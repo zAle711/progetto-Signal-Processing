{
 "cells": [
  {
   "cell_type": "code",
   "execution_count": 77,
   "metadata": {},
   "outputs": [],
   "source": [
    "import numpy as np\n",
    "import pandas as pd\n",
    "import matplotlib.pyplot as plt\n",
    "\n",
    "data_training = pd.read_csv('test.csv')\n",
    "x_tr = data_training.drop('diabetes', axis=1)\n",
    "y_tr = data_training['diabetes']"
   ]
  },
  {
   "attachments": {},
   "cell_type": "markdown",
   "metadata": {},
   "source": [
    "# Definisco la funzione per calcolare la Sigmoide"
   ]
  },
  {
   "cell_type": "code",
   "execution_count": 78,
   "metadata": {},
   "outputs": [],
   "source": [
    "def sigmoid(z):\n",
    "    return 1 / (1 + np.exp(-z))"
   ]
  },
  {
   "cell_type": "code",
   "execution_count": 79,
   "metadata": {},
   "outputs": [],
   "source": [
    "numero_iterazioni = 1000\n",
    "numero_parametri = 9\n",
    "numero_dati = x_tr.shape[0]\n",
    "learning_rate = 0.0001"
   ]
  },
  {
   "cell_type": "code",
   "execution_count": 80,
   "metadata": {},
   "outputs": [],
   "source": [
    "x_tr['bias'] = np.ones(len(x_tr.index))\n",
    "\n",
    "pesi_parametri = np.zeros(numero_parametri)\n",
    "\n",
    "def cost(x, y, pesi_parametri):\n",
    "    m = x.shape[0]\n",
    "    h = sigmoid(np.matmul(x, pesi_parametri))\n",
    "    cost = (np.matmul(-y.T, np.log(h)) - np.matmul((1 -y.T), np.log(1 - h)))/m\n",
    "    return cost\n",
    "\n",
    "def gradient_Descent(pesi_parametri, alpha, x , y):\n",
    "    m = x.shape[0]\n",
    "    h = sigmoid(np.matmul(x, pesi_parametri))\n",
    "    grad = np.matmul(x.T, (h - y)) / m;\n",
    "    pesi_parametri = pesi_parametri - alpha * grad\n",
    "    return pesi_parametri"
   ]
  },
  {
   "cell_type": "code",
   "execution_count": 81,
   "metadata": {},
   "outputs": [],
   "source": [
    "pesi_parametri = np.zeros([numero_parametri, numero_iterazioni])\n",
    "pesi_parametri[:,0] = np.random.normal(size=[9])\n",
    "valore_funzione_costo = []\n",
    "valore_funzione_costo.append(cost(x_tr, y_tr, pesi_parametri[:,0]))\n",
    "for i in range(0, numero_iterazioni-1):\n",
    "        # calcolo il valore della sigmoide\n",
    "        # print(f\"Traning: {x_tr.shape} Pesi Parametri: {pesi_parametri.shape}\")\n",
    "        h = sigmoid(np.matmul(x_tr, pesi_parametri[:,i]))\n",
    "        #calcolo il gradiente\n",
    "        gradient = np.matmul(x_tr.T, (h-y_tr)) / numero_dati\n",
    "        #aggiorno i pesi\n",
    "        pesi_parametri[:,i+1] = pesi_parametri[:,i] - learning_rate * gradient\n",
    "        \n",
    "        valore_funzione_costo.append(cost(x_tr, y_tr, pesi_parametri[:,i+1]))\n",
    "\n",
    "# for i in range(n_iterations):\n",
    "#     pesi_parametri = gradient_Descent(pesi_parametri, learning_rate, x_tr, y_tr)\n",
    "#     if i % 50 == 0:\n",
    "#         print(cost(x_tr, y_tr, pesi_parametri))\n",
    "\n"
   ]
  },
  {
   "cell_type": "code",
   "execution_count": 91,
   "metadata": {},
   "outputs": [
    {
     "data": {
      "text/plain": [
       "[<matplotlib.lines.Line2D at 0x1dca8d5fe80>]"
      ]
     },
     "execution_count": 91,
     "metadata": {},
     "output_type": "execute_result"
    },
    {
     "data": {
      "image/png": "[encoded data removed]",
      "text/plain": [
       "<Figure size 640x480 with 1 Axes>"
      ]
     },
     "metadata": {},
     "output_type": "display_data"
    }
   ],
   "source": [
    "import seaborn as sns\n",
    "plt.plot(valore_funzione_costo)\n"
   ]
  }
 ],
 "metadata": {
  "kernelspec": {
   "display_name": "Python 3",
   "language": "python",
   "name": "python3"
  },
  "language_info": {
   "codemirror_mode": {
    "name": "ipython",
    "version": 3
   },
   "file_extension": ".py",
   "mimetype": "text/x-python",
   "name": "python",
   "nbconvert_exporter": "python",
   "pygments_lexer": "ipython3",
   "version": "3.10.7"
  },
  "orig_nbformat": 4
 },
 "nbformat": 4,
 "nbformat_minor": 2
}
